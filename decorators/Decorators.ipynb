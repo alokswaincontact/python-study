{
 "cells": [
  {
   "cell_type": "code",
   "execution_count": 43,
   "metadata": {},
   "outputs": [
    {
     "name": "stdout",
     "output_type": "stream",
     "text": [
      "Enter b\n",
      "Exit b\n",
      "\n",
      "Enter internal\n",
      "Exit internal\n"
     ]
    }
   ],
   "source": [
    "def a():\n",
    "    print(\"Enter a\")\n",
    "    print(\"Exit a\")\n",
    "    \n",
    "def b(args):\n",
    "    print(\"Enter b\")\n",
    "    def internal():\n",
    "        print(\"Enter internal\")\n",
    "        print(\"Exit internal\")   \n",
    "    print(\"Exit b\")\n",
    "    return internal\n",
    "    \n",
    "a = b(a)\n",
    "print()\n",
    "a()"
   ]
  },
  {
   "cell_type": "code",
   "execution_count": 55,
   "metadata": {},
   "outputs": [
    {
     "name": "stdout",
     "output_type": "stream",
     "text": [
      "Enter b\n",
      "Exit b\n",
      "\n",
      "Enter internal\n",
      "Exit internal\n"
     ]
    }
   ],
   "source": [
    "@b\n",
    "def a():\n",
    "    print(\"Enter a\")\n",
    "    print(\"Exit a\")\n",
    "    \n",
    "def b(args):\n",
    "    print(\"Enter b\")\n",
    "    def internal():\n",
    "        print(\"Enter internal\")\n",
    "        print(\"Exit internal\")   \n",
    "    print(\"Exit b\")\n",
    "    return internal\n",
    "    \n",
    "print()\n",
    "a()"
   ]
  },
  {
   "cell_type": "code",
   "execution_count": 22,
   "metadata": {},
   "outputs": [],
   "source": [
    "#dir(a)"
   ]
  },
  {
   "cell_type": "code",
   "execution_count": 75,
   "metadata": {},
   "outputs": [
    {
     "name": "stdout",
     "output_type": "stream",
     "text": [
      "Enter b\n",
      "Exit b\n",
      "\n",
      "Enter internal\n",
      "args (5,) kwargs {'hello': 'Hello'}\n",
      "Enter a\n",
      "((5,), {'hello': 'Hello'})\n",
      "Exit a\n",
      "Exit internal\n"
     ]
    }
   ],
   "source": [
    "@b\n",
    "def a(*args, **kwargs):\n",
    "    print(\"Enter a\")\n",
    "    print(args)\n",
    "    for key, value in kwargs:\n",
    "        print(key, value)\n",
    "    print(\"Exit a\")\n",
    "    \n",
    "def b(original):\n",
    "    print(\"Enter b\")\n",
    "    def internal(*args, **kwargs):\n",
    "        print(\"Enter internal\")\n",
    "        print('args', args, 'kwargs', kwargs)\n",
    "        #print(kwargs)\n",
    "        #for key, value in kwargs:\n",
    "        #    print(key, value)\n",
    "        original(args, kwargs)\n",
    "        print(\"Exit internal\")   \n",
    "    print(\"Exit b\")\n",
    "    return internal\n",
    "    \n",
    "print()\n",
    "a(5, hello=\"Hello\")"
   ]
  },
  {
   "cell_type": "code",
   "execution_count": null,
   "metadata": {},
   "outputs": [],
   "source": []
  }
 ],
 "metadata": {
  "kernelspec": {
   "display_name": "Python 3",
   "language": "python",
   "name": "python3"
  },
  "language_info": {
   "codemirror_mode": {
    "name": "ipython",
    "version": 3
   },
   "file_extension": ".py",
   "mimetype": "text/x-python",
   "name": "python",
   "nbconvert_exporter": "python",
   "pygments_lexer": "ipython3",
   "version": "3.6.3"
  }
 },
 "nbformat": 4,
 "nbformat_minor": 2
}
